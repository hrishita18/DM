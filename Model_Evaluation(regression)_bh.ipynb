{
 "cells": [
  {
   "cell_type": "code",
   "execution_count": 1,
   "id": "0ca085ab-9f22-45e7-9bb0-bfc61fd0dc2d",
   "metadata": {},
   "outputs": [
    {
     "name": "stdout",
     "output_type": "stream",
     "text": [
      "Linear Regression Model Evaluation:\n",
      "  R² Score: 0.6688\n",
      "  RMSE: 4.9286\n",
      "  MAE: 3.1891\n",
      "\n",
      "Polynomial Regression (deg=2) Model Evaluation:\n",
      "  R² Score: 0.8056\n",
      "  RMSE: 3.7752\n",
      "  MAE: 2.5740\n",
      "\n",
      "Ridge Regression Model Evaluation:\n",
      "  R² Score: 0.6685\n",
      "  RMSE: 4.9308\n",
      "  MAE: 3.1857\n",
      "\n",
      "Lasso Regression Model Evaluation:\n",
      "  R² Score: 0.6501\n",
      "  RMSE: 5.0652\n",
      "  MAE: 3.2418\n",
      "\n"
     ]
    }
   ],
   "source": [
    "import pandas as pd\n",
    "import numpy as np\n",
    "from sklearn.linear_model import LinearRegression, Ridge, Lasso\n",
    "from sklearn.preprocessing import StandardScaler, PolynomialFeatures\n",
    "from sklearn.model_selection import train_test_split\n",
    "from sklearn.metrics import mean_squared_error, mean_absolute_error, r2_score\n",
    "\n",
    "# Load the dataset\n",
    "df = pd.read_csv(\"BostonHousing.csv\")\n",
    "X = df.drop(\"medv\", axis=1)\n",
    "y = df[\"medv\"]\n",
    "\n",
    "# Train-test split\n",
    "X_train, X_test, y_train, y_test = train_test_split(X, y, test_size=0.2, random_state=42)\n",
    "\n",
    "# Standardize features\n",
    "scaler = StandardScaler()\n",
    "X_train_scaled = scaler.fit_transform(X_train)\n",
    "X_test_scaled = scaler.transform(X_test)\n",
    "\n",
    "def evaluate_model(name, model, X_train, X_test):\n",
    "    model.fit(X_train, y_train)\n",
    "    y_pred = model.predict(X_test)\n",
    "    r2 = r2_score(y_test, y_pred)\n",
    "    rmse = mean_squared_error(y_test, y_pred, squared=False)\n",
    "    mae = mean_absolute_error(y_test, y_pred)\n",
    "    print(f\"{name} Model Evaluation:\")\n",
    "    print(f\"  R² Score: {r2:.4f}\")\n",
    "    print(f\"  RMSE: {rmse:.4f}\")\n",
    "    print(f\"  MAE: {mae:.4f}\\n\")\n",
    "\n",
    "# 1. Linear Regression\n",
    "linreg = LinearRegression()\n",
    "evaluate_model(\"Linear Regression\", linreg, X_train_scaled, X_test_scaled)\n",
    "\n",
    "# 2. Polynomial Regression (degree=2)\n",
    "poly = PolynomialFeatures(degree=2)\n",
    "X_train_poly = poly.fit_transform(X_train_scaled)\n",
    "X_test_poly = poly.transform(X_test_scaled)\n",
    "polyreg = LinearRegression()\n",
    "evaluate_model(\"Polynomial Regression (deg=2)\", polyreg, X_train_poly, X_test_poly)\n",
    "\n",
    "# 3. Ridge Regression\n",
    "ridge = Ridge(alpha=1.0)\n",
    "evaluate_model(\"Ridge Regression\", ridge, X_train_scaled, X_test_scaled)\n",
    "\n",
    "# 4. Lasso Regression\n",
    "lasso = Lasso(alpha=0.1)\n",
    "evaluate_model(\"Lasso Regression\", lasso, X_train_scaled, X_test_scaled)"
   ]
  },
  {
   "cell_type": "code",
   "execution_count": null,
   "id": "e7bd6b13-4b3b-4db5-890b-21e666ff86a4",
   "metadata": {},
   "outputs": [],
   "source": []
  }
 ],
 "metadata": {
  "kernelspec": {
   "display_name": "Python 3 (ipykernel)",
   "language": "python",
   "name": "python3"
  },
  "language_info": {
   "codemirror_mode": {
    "name": "ipython",
    "version": 3
   },
   "file_extension": ".py",
   "mimetype": "text/x-python",
   "name": "python",
   "nbconvert_exporter": "python",
   "pygments_lexer": "ipython3",
   "version": "3.9.18"
  }
 },
 "nbformat": 4,
 "nbformat_minor": 5
}
