{
 "cells": [
  {
   "cell_type": "code",
   "execution_count": 19,
   "id": "250e23cc-6261-4cbc-81b4-ea31efddb5b4",
   "metadata": {},
   "outputs": [
    {
     "name": "stdout",
     "output_type": "stream",
     "text": [
      "<class 'pandas.core.frame.DataFrame'>\n",
      "RangeIndex: 106608 entries, 0 to 106607\n",
      "Data columns (total 4 columns):\n",
      " #   Column  Non-Null Count   Dtype  \n",
      "---  ------  --------------   -----  \n",
      " 0   Date    106608 non-null  object \n",
      " 1   East    106580 non-null  float64\n",
      " 2   West    106580 non-null  float64\n",
      " 3   Total   106580 non-null  float64\n",
      "dtypes: float64(3), object(1)\n",
      "memory usage: 3.3+ MB\n",
      "None\n"
     ]
    },
    {
     "name": "stderr",
     "output_type": "stream",
     "text": [
      "C:\\Users\\HRISHITA\\AppData\\Local\\Temp\\ipykernel_16912\\2096738569.py:14: UserWarning: Could not infer format, so each element will be parsed individually, falling back to `dateutil`. To ensure parsing is consistent and as-expected, please specify a format.\n",
      "  df['Date']= pd.to_datetime(df['Date'])\n"
     ]
    },
    {
     "name": "stdout",
     "output_type": "stream",
     "text": [
      "   Total  Hour  Day  Month  Year\n",
      "0   55.0    13    2     10  2012\n",
      "1  130.0    14    2     10  2012\n",
      "2  152.0    15    2     10  2012\n",
      "3  278.0    16    2     10  2012\n",
      "4  563.0    17    2     10  2012\n",
      "Mean absolute error= 90.5320\n",
      "R2-score= 0.0481\n"
     ]
    }
   ],
   "source": [
    "import pandas as pd\n",
    "import matplotlib.pyplot as plt\n",
    "import seaborn as sns\n",
    "from sklearn.linear_model import LinearRegression\n",
    "from sklearn.model_selection import train_test_split\n",
    "from sklearn.metrics import mean_absolute_error, r2_score\n",
    "\n",
    "df = pd.read_csv('Fremont_Bridge_Bicycle.csv')\n",
    "df.columns = ['Date', 'East', 'West', 'Total']\n",
    "\n",
    "print(df.info())\n",
    "\n",
    "df.columns=[\"Date\",\"Total\", \"West\", \"East\"]\n",
    "df['Date']= pd.to_datetime(df['Date'])\n",
    "df['Hour']= df['Date'].dt.hour\n",
    "df['Day']= df['Date'].dt.day\n",
    "df['Month']= df['Date'].dt.month\n",
    "df['Year']= df['Date'].dt.year\n",
    "df= df.drop(['Date'], axis= 1)\n",
    "\n",
    "df= df.drop(['West', 'East'], axis=1)\n",
    "\n",
    "df.isnull().sum()\n",
    "df.fillna(0, inplace= True)\n",
    "print(df.head())\n",
    "\n",
    "X= df.drop(['Total'], axis=1)\n",
    "y= df['Total']\n",
    "\n",
    "X_train, X_test, y_train, y_test = train_test_split(X, y, test_size= 0.3, random_state=42)\n",
    "\n",
    "from sklearn.preprocessing import StandardScaler\n",
    "scaler= StandardScaler()\n",
    "X_train_scaled= scaler.fit_transform(X_train)\n",
    "X_test_scaled= scaler.fit_transform(X_test)\n",
    "\n",
    "LR= LinearRegression()\n",
    "LR.fit(X_train_scaled, y_train)\n",
    "\n",
    "y_pred= LR.predict(X_test_scaled)\n",
    "\n",
    "mae= mean_absolute_error(y_test, y_pred)\n",
    "print(\"Mean absolute error= %.4f\"%mae)\n",
    "r2= r2_score(y_test, y_pred)\n",
    "print(\"R2-score= %.4f\"%r2)"
   ]
  },
  {
   "cell_type": "code",
   "execution_count": null,
   "id": "dd0b7f10-6aee-4c1d-9df9-9651d9e522b2",
   "metadata": {},
   "outputs": [],
   "source": []
  }
 ],
 "metadata": {
  "kernelspec": {
   "display_name": "Python 3 (ipykernel)",
   "language": "python",
   "name": "python3"
  },
  "language_info": {
   "codemirror_mode": {
    "name": "ipython",
    "version": 3
   },
   "file_extension": ".py",
   "mimetype": "text/x-python",
   "name": "python",
   "nbconvert_exporter": "python",
   "pygments_lexer": "ipython3",
   "version": "3.9.18"
  }
 },
 "nbformat": 4,
 "nbformat_minor": 5
}
